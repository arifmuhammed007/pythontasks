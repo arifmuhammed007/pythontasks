{
 "cells": [
  {
   "cell_type": "code",
   "execution_count": 6,
   "id": "7a8a0853-19bf-410c-a02d-a8046deed92d",
   "metadata": {},
   "outputs": [],
   "source": [
    "import pandas as pd\n",
    "import numpy as np"
   ]
  },
  {
   "cell_type": "markdown",
   "id": "3a9cc93f-705f-426f-8399-914c3475128c",
   "metadata": {},
   "source": [
    "1. Load and Inspect the Data\n",
    "Load the dataset into a pandas DataFrame.\n",
    "\n",
    "\n",
    "Display basic info: shape, data types, missing values.\n"
   ]
  },
  {
   "cell_type": "code",
   "execution_count": 7,
   "id": "deefe838-1d9b-4c38-bdc6-452efe4c5e1b",
   "metadata": {},
   "outputs": [],
   "source": [
    "df = pd.read_csv(\"train.csv\")\n"
   ]
  },
  {
   "cell_type": "code",
   "execution_count": 8,
   "id": "fee38b6c-160a-46a6-a3a8-5d7ffa784a97",
   "metadata": {},
   "outputs": [
    {
     "name": "stdout",
     "output_type": "stream",
     "text": [
      "Basic infos\n",
      "\n",
      "shap of you datasets: (891, 12)\n",
      "\n",
      " data types \n",
      "\n",
      "PassengerId      int64\n",
      "Survived         int64\n",
      "Pclass           int64\n",
      "Name            object\n",
      "Sex             object\n",
      "Age            float64\n",
      "SibSp            int64\n",
      "Parch            int64\n",
      "Ticket          object\n",
      "Fare           float64\n",
      "Cabin           object\n",
      "Embarked        object\n",
      "dtype: object\n",
      "\n",
      " missing values is:\n",
      "\n",
      "PassengerId      0\n",
      "Survived         0\n",
      "Pclass           0\n",
      "Name             0\n",
      "Sex              0\n",
      "Age            177\n",
      "SibSp            0\n",
      "Parch            0\n",
      "Ticket           0\n",
      "Fare             0\n",
      "Cabin          687\n",
      "Embarked         2\n",
      "dtype: int64\n"
     ]
    }
   ],
   "source": [
    "print(\"Basic infos\\n\")\n",
    "print(\"shap of you datasets:\",df.shape)\n",
    "print(\"\\n data types \\n\") \n",
    "print(df.dtypes)\n",
    "print(\"\\n missing values is:\\n\")\n",
    "print(df.isnull().sum())\n"
   ]
  },
  {
   "cell_type": "markdown",
   "id": "37202a00-7ec7-47c4-9065-cc8ab7321f40",
   "metadata": {},
   "source": [
    "2. Handle Missing Values\n",
    "Find columns with missing data.\n",
    "\n",
    "\n",
    "Fill missing Age values with the median age.\n",
    "\n",
    "\n",
    "Fill missing Embarked values with the mode (most common port).\n",
    "\n",
    "\n",
    "Drop the Cabin column for now (too many missing values).\n"
   ]
  },
  {
   "cell_type": "code",
   "execution_count": 9,
   "id": "73eac5ed-0cea-4bd4-8aa5-91731b9795a6",
   "metadata": {},
   "outputs": [],
   "source": [
    "#Fill missing Age values with the median age.\n",
    "median_age = df[\"Age\"].median()\n",
    "df[\"Age\"] = df['Age'].fillna(median_age)"
   ]
  },
  {
   "cell_type": "code",
   "execution_count": 10,
   "id": "92338f55-ddd8-4bbc-b275-803ae2b8ac4a",
   "metadata": {},
   "outputs": [],
   "source": [
    "#Fill missing Embarked values with the mode (most common port).\n",
    "most_embarked = df[\"Embarked\"].mode()[0]\n",
    "df['Embarked'] = df['Embarked'].fillna(most_embarked)"
   ]
  },
  {
   "cell_type": "code",
   "execution_count": 11,
   "id": "c6a9fea7-99b6-41f1-bba2-f119a752db69",
   "metadata": {},
   "outputs": [],
   "source": [
    "#Drop the Cabin column for now (too many missing values)\n",
    "df.drop(columns = [\"Cabin\"],inplace = True)\n",
    "\n"
   ]
  },
  {
   "cell_type": "markdown",
   "id": "f26cc6c4-77b6-4afc-bf30-91cade2be023",
   "metadata": {},
   "source": [
    "3. Basic Exploration\n",
    "How many passengers survived?\n",
    "\n",
    "\n",
    "What percentage survived?\n",
    "\n",
    "\n",
    "What is the average age of survivors vs non-survivors?\n",
    "\n",
    "\n"
   ]
  },
  {
   "cell_type": "code",
   "execution_count": 12,
   "id": "31549476-44d8-47b8-8843-bd78ac50f772",
   "metadata": {},
   "outputs": [
    {
     "name": "stdout",
     "output_type": "stream",
     "text": [
      "Survived\n",
      "0    549\n",
      "1    342\n",
      "Name: count, dtype: int64\n"
     ]
    }
   ],
   "source": [
    "#How many passengers survived?\n",
    "survivers_count = df['Survived'].value_counts()\n",
    "print(survivers_count)    "
   ]
  },
  {
   "cell_type": "code",
   "execution_count": 13,
   "id": "9f498a4a-4414-499f-a122-fa83589902ee",
   "metadata": {},
   "outputs": [
    {
     "name": "stdout",
     "output_type": "stream",
     "text": [
      "Survivers percentage: 38.38%\n"
     ]
    }
   ],
   "source": [
    "#What percentage survived?\n",
    "percentage_survived = df['Survived'].mean()*100\n",
    "print(f\"Survivers percentage: {percentage_survived:.2f}%\")"
   ]
  },
  {
   "cell_type": "code",
   "execution_count": 14,
   "id": "2ea85ff7-9b8b-4dbe-a38a-515b931f0dc3",
   "metadata": {},
   "outputs": [
    {
     "name": "stdout",
     "output_type": "stream",
     "text": [
      "Survived\n",
      "0    30.028233\n",
      "1    28.291433\n",
      "Name: Age, dtype: float64\n"
     ]
    }
   ],
   "source": [
    "#What is the average age of survivors vs non-survivors?\n",
    "avg_age_by_survivors = df.groupby('Survived')['Age'].mean()\n",
    "print(avg_age_by_survivors)"
   ]
  },
  {
   "cell_type": "markdown",
   "id": "4fda0ec2-9672-4519-a57d-9fddce7e6af6",
   "metadata": {},
   "source": [
    "4. Group Analysis\n",
    "Survival rate by gender.\n",
    "\n",
    "\n",
    "Survival rate by passenger class (Pclass).\n",
    "\n",
    "\n",
    "Compare average fare between survivors and non-survivors."
   ]
  },
  {
   "cell_type": "code",
   "execution_count": 15,
   "id": "d2d55be1-8722-4674-ab97-cb303e6cae7c",
   "metadata": {},
   "outputs": [
    {
     "name": "stdout",
     "output_type": "stream",
     "text": [
      "Sex\n",
      "female    74.203822\n",
      "male      18.890815\n",
      "Name: Survived, dtype: float64\n"
     ]
    }
   ],
   "source": [
    "#Survival rate by gender.\n",
    "survival_by_gender = df.groupby('Sex')['Survived'].mean()\n",
    "print(survival_by_gender*100)"
   ]
  },
  {
   "cell_type": "code",
   "execution_count": 16,
   "id": "03b0e261-00d4-4817-963d-0af78396165f",
   "metadata": {},
   "outputs": [
    {
     "name": "stdout",
     "output_type": "stream",
     "text": [
      "Pclass\n",
      "1    0.629630\n",
      "2    0.472826\n",
      "3    0.242363\n",
      "Name: Survived, dtype: float64\n"
     ]
    }
   ],
   "source": [
    "#Survival rate by passenger class (Pclass).\n",
    "survival_rate_passenger = df.groupby('Pclass')['Survived'].mean()\n",
    "print(survival_rate_passenger)"
   ]
  },
  {
   "cell_type": "code",
   "execution_count": 17,
   "id": "f94cf4a6-cdae-4941-8224-568848d9e32b",
   "metadata": {},
   "outputs": [
    {
     "name": "stdout",
     "output_type": "stream",
     "text": [
      "Survived\n",
      "0    22.117887\n",
      "1    48.395408\n",
      "Name: Fare, dtype: float64\n"
     ]
    }
   ],
   "source": [
    "#Compare average fare between survivors and non-survivors.\n",
    "fare_beetween_survival_and_nonsurvival = df.groupby('Survived')['Fare'].mean()\n",
    "print(fare_beetween_survival_and_nonsurvival)"
   ]
  },
  {
   "cell_type": "markdown",
   "id": "006992a4-91b6-4cb2-9f11-e5ef813e6f17",
   "metadata": {},
   "source": [
    "5. Create New Columns\n",
    "Create a new column FamilySize = SibSp + Parch + 1.\n",
    "\n",
    "\n",
    "Create a new column IsAlone (1 if FamilySize == 1, else 0).\n"
   ]
  },
  {
   "cell_type": "code",
   "execution_count": 18,
   "id": "251043a9-8cdf-475d-894b-192640ae8a84",
   "metadata": {},
   "outputs": [
    {
     "name": "stdout",
     "output_type": "stream",
     "text": [
      "0      2\n",
      "1      2\n",
      "2      1\n",
      "3      2\n",
      "4      1\n",
      "      ..\n",
      "886    1\n",
      "887    1\n",
      "888    4\n",
      "889    1\n",
      "890    1\n",
      "Name: FamilySize, Length: 891, dtype: int64\n"
     ]
    }
   ],
   "source": [
    "# Create the FamilySize column (SibSp + Parch + 1)\n",
    "df['FamilySize'] = df['SibSp'] + df['Parch']+1\n",
    "print(df['FamilySize'])"
   ]
  },
  {
   "cell_type": "code",
   "execution_count": 19,
   "id": "680b3144-e955-44ff-a52e-465e1608c77b",
   "metadata": {},
   "outputs": [],
   "source": [
    "df['IsAlone'] = (df['FamilySize'] == 1).astype(int)  # 1 if alone, 0 otherwise"
   ]
  },
  {
   "cell_type": "markdown",
   "id": "c8dc5082-a88b-4368-983c-2a279bee6aef",
   "metadata": {},
   "source": [
    "6. More Insights\n",
    "How does family size affect survival?\n",
    "\n",
    "\n",
    "Does traveling alone reduce survival chances?\n"
   ]
  },
  {
   "cell_type": "code",
   "execution_count": 20,
   "id": "9c5b6339-fe43-43ce-8f4f-21e5a71e8385",
   "metadata": {},
   "outputs": [
    {
     "name": "stdout",
     "output_type": "stream",
     "text": [
      "FamilySize\n",
      "1     0.303538\n",
      "2     0.552795\n",
      "3     0.578431\n",
      "4     0.724138\n",
      "5     0.200000\n",
      "6     0.136364\n",
      "7     0.333333\n",
      "8     0.000000\n",
      "11    0.000000\n",
      "Name: Survived, dtype: float64\n"
     ]
    }
   ],
   "source": [
    "#How does family size affect survival?\n",
    "family_survival_rate = df.groupby('FamilySize')['Survived'].mean()\n",
    "print(family_survival_rate)"
   ]
  },
  {
   "cell_type": "code",
   "execution_count": 21,
   "id": "b153f02c-2ffc-41b7-979e-1cd826cb3178",
   "metadata": {},
   "outputs": [
    {
     "name": "stdout",
     "output_type": "stream",
     "text": [
      "IsAlone\n",
      "0    0.505650\n",
      "1    0.303538\n",
      "Name: Survived, dtype: float64\n",
      "\n",
      "Difference in survival rates (with family - alone): 20.21%\n"
     ]
    }
   ],
   "source": [
    "\n",
    "\n",
    "# Calculate survival rates by alone status\n",
    "alone_survival_rate = df.groupby('IsAlone')['Survived'].mean()\n",
    "print(alone_survival_rate)\n",
    "\n",
    "# Calculate the difference in survival rates\n",
    "diff = alone_survival_rate[0] - alone_survival_rate[1]\n",
    "print(f\"\\nDifference in survival rates (with family - alone): {diff:.2%}\")\n",
    "\n",
    "\n"
   ]
  },
  {
   "cell_type": "markdown",
   "id": "4b0e6fdc-bcfd-41b9-863e-1774a3ca115e",
   "metadata": {},
   "source": [
    "6. More Insights\n",
    "How does family size affect survival?\n",
    "\n",
    "\n",
    "Does traveling alone reduce survival chances?\n",
    "\n"
   ]
  },
  {
   "cell_type": "code",
   "execution_count": 23,
   "id": "c125d226-0357-4802-8171-3cd392732a93",
   "metadata": {},
   "outputs": [
    {
     "name": "stdout",
     "output_type": "stream",
     "text": [
      "               mean  count\n",
      "FamilyGroup               \n",
      "Alone         30.4%    537\n",
      "Small Family  57.9%    292\n",
      "Large Family  16.1%     62\n"
     ]
    }
   ],
   "source": [
    "# Create FamilySize groups\n",
    "df['FamilyGroup'] = pd.cut(df['FamilySize'],\n",
    "                           bins=[0, 1, 4, 11],\n",
    "                           labels=['Alone', 'Small Family', 'Large Family'])\n",
    "\n",
    "# Calculate survival rates (with warning fix)\n",
    "family_survival = df.groupby('FamilyGroup', observed=True)['Survived'].agg(['mean', 'count'])\n",
    "\n",
    "# Format survival rate as percentage\n",
    "family_survival['mean'] = family_survival['mean'].map('{:.1%}'.format)\n",
    "\n",
    "print(family_survival)\n"
   ]
  },
  {
   "cell_type": "markdown",
   "id": "daa662ef-4d7d-4f88-9408-381a0d784bb5",
   "metadata": {},
   "source": [
    "7)\n",
    "Sorting and Filtering\n",
    "List top 10 passengers who paid the highest fares.\n",
    "\n",
    "\n",
    "Find passengers under 18 years old who survived.\n"
   ]
  },
  {
   "cell_type": "code",
   "execution_count": null,
   "id": "4d5daa7a-54b3-42c9-80f9-1fea496ec8d2",
   "metadata": {},
   "outputs": [],
   "source": [
    "#ist top 10 passengers who paid the highest fares.\n",
    "top_10_fares = df.sort_values(by='Fare', ascending=False).head(10)\n",
    "print(top_10_fares[['Name', 'Fare', 'Pclass', 'Survived']])\n"
   ]
  },
  {
   "cell_type": "code",
   "execution_count": 24,
   "id": "3d6519f7-1d7e-4454-82fd-b74ded30c824",
   "metadata": {},
   "outputs": [
    {
     "name": "stdout",
     "output_type": "stream",
     "text": [
      "                                         Name    Age     Sex  Pclass  Survived\n",
      "9         Nasser, Mrs. Nicholas (Adele Achem)  14.00  female       2         1\n",
      "10            Sandstrom, Miss. Marguerite Rut   4.00  female       3         1\n",
      "22                McGowan, Miss. Anna \"Annie\"  15.00  female       3         1\n",
      "39                Nicola-Yarred, Miss. Jamila  14.00  female       3         1\n",
      "43   Laroche, Miss. Simonne Marie Anne Andree   3.00  female       2         1\n",
      "..                                        ...    ...     ...     ...       ...\n",
      "830   Yasbeck, Mrs. Antoni (Selini Alexander)  15.00  female       3         1\n",
      "831           Richards, Master. George Sibley   0.83    male       2         1\n",
      "853                 Lines, Miss. Mary Conover  16.00  female       1         1\n",
      "869           Johnson, Master. Harold Theodor   4.00    male       3         1\n",
      "875          Najib, Miss. Adele Kiamie \"Jane\"  15.00  female       3         1\n",
      "\n",
      "[61 rows x 5 columns]\n"
     ]
    }
   ],
   "source": [
    "#Find passengers under 18 years old who survived.\n",
    "young_survivors = df[(df['Age']<18) & (df['Survived'] == 1)]\n",
    "print(young_survivors[[\"Name\",'Age','Sex','Pclass','Survived']])"
   ]
  },
  {
   "cell_type": "markdown",
   "id": "84ba9c04-4779-404c-b4da-9adbcc27d9d5",
   "metadata": {},
   "source": [
    "8. Create Age Groups\n",
    "Create a new column AgeGroup:\n",
    "\n",
    "\n",
    "Child: 0–12 years\n",
    "\n",
    "\n",
    "Teen: 13–19 years\n",
    "\n",
    "\n",
    "Adult: 20–59 years\n",
    "\n",
    "\n",
    "Senior: 60+ years\n",
    "\n",
    "\n",
    "Analyze survival rates within each AgeGroup.\n"
   ]
  },
  {
   "cell_type": "code",
   "execution_count": 29,
   "id": "32de380d-9439-4bea-a07b-119c16f62f11",
   "metadata": {},
   "outputs": [
    {
     "name": "stdout",
     "output_type": "stream",
     "text": [
      "           mean  count\n",
      "AgeGroup              \n",
      "Child     58.0%     69\n",
      "Teen      41.1%     95\n",
      "Adult     36.5%    701\n",
      "Senior    26.9%     26\n"
     ]
    }
   ],
   "source": [
    "# Define age groups\n",
    "df['AgeGroup'] = pd.cut(df['Age'],\n",
    "                        bins=[0, 12, 19, 59, 120],\n",
    "                        labels=['Child', 'Teen', 'Adult', 'Senior'])\n",
    "\n",
    "#Analyze survival rates within each AgeGroup.\n",
    "agegroup_survival = df.groupby('AgeGroup', observed=True)['Survived'].agg(['mean', 'count'])\n",
    "agegroup_survival['mean'] = agegroup_survival['mean'].map('{:.1%}'.format)\n",
    "print(agegroup_survival)\n",
    "\n"
   ]
  },
  {
   "cell_type": "code",
   "execution_count": null,
   "id": "4d97e53a-7a86-4ead-9439-947fd1bdec4a",
   "metadata": {},
   "outputs": [],
   "source": []
  },
  {
   "cell_type": "code",
   "execution_count": null,
   "id": "4b0deaf8-220e-4485-b709-e7cf7e3b3508",
   "metadata": {},
   "outputs": [],
   "source": []
  },
  {
   "cell_type": "code",
   "execution_count": null,
   "id": "c4daf888-d195-41f2-ac92-d2e1612e43cb",
   "metadata": {},
   "outputs": [],
   "source": []
  }
 ],
 "metadata": {
  "kernelspec": {
   "display_name": "Python 3 (ipykernel)",
   "language": "python",
   "name": "python3"
  },
  "language_info": {
   "codemirror_mode": {
    "name": "ipython",
    "version": 3
   },
   "file_extension": ".py",
   "mimetype": "text/x-python",
   "name": "python",
   "nbconvert_exporter": "python",
   "pygments_lexer": "ipython3",
   "version": "3.13.3"
  }
 },
 "nbformat": 4,
 "nbformat_minor": 5
}
