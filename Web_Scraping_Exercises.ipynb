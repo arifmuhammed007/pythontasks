{
  "cells": [
    {
      "cell_type": "markdown",
      "metadata": {
        "id": "view-in-github",
        "colab_type": "text"
      },
      "source": [
        "<a href=\"https://colab.research.google.com/github/arifmuhammed007/pythontasks/blob/main/Web_Scraping_Exercises.ipynb\" target=\"_parent\"><img src=\"https://colab.research.google.com/assets/colab-badge.svg\" alt=\"Open In Colab\"/></a>"
      ]
    },
    {
      "cell_type": "markdown",
      "metadata": {
        "id": "4dAZkMC9joHP"
      },
      "source": [
        "# Web Scraping Exercises\n",
        "\n",
        "## Complete the Tasks Below"
      ]
    },
    {
      "cell_type": "markdown",
      "metadata": {
        "id": "dOsVFKuPjoHQ"
      },
      "source": [
        "**TASK: Import any libraries you think you'll need to scrape a website.**"
      ]
    },
    {
      "cell_type": "code",
      "execution_count": 1,
      "metadata": {
        "id": "mMgPcUxajoHR"
      },
      "outputs": [],
      "source": [
        "import requests"
      ]
    },
    {
      "cell_type": "code",
      "execution_count": 4,
      "metadata": {
        "id": "y3rIiDDhjoHT"
      },
      "outputs": [],
      "source": [
        "from bs4 import BeautifulSoup"
      ]
    },
    {
      "cell_type": "markdown",
      "metadata": {
        "id": "ZKh5ImIBjoHU"
      },
      "source": [
        "**TASK: Use requests library and BeautifulSoup to connect to http://quotes.toscrape.com/ and get the HMTL text from the homepage.**"
      ]
    },
    {
      "cell_type": "code",
      "source": [
        "response = requests.get(\" http://quotes.toscrape.com/\")\n",
        "soup = BeautifulSoup(response.text, 'html.parser')\n"
      ],
      "metadata": {
        "id": "IaIUb4GZjw5l"
      },
      "execution_count": 7,
      "outputs": []
    },
    {
      "cell_type": "markdown",
      "metadata": {
        "id": "w_CSETNPjoHY"
      },
      "source": [
        "**TASK: Get the names of all the authors on the first page.**"
      ]
    },
    {
      "cell_type": "code",
      "execution_count": 10,
      "metadata": {
        "id": "Qd4QOPWBjoHZ",
        "outputId": "d155fb57-098e-4002-9542-bf25a330ccf3",
        "colab": {
          "base_uri": "https://localhost:8080/"
        }
      },
      "outputs": [
        {
          "output_type": "execute_result",
          "data": {
            "text/plain": [
              "{'Albert Einstein',\n",
              " 'André Gide',\n",
              " 'Eleanor Roosevelt',\n",
              " 'J.K. Rowling',\n",
              " 'Jane Austen',\n",
              " 'Marilyn Monroe',\n",
              " 'Steve Martin',\n",
              " 'Thomas A. Edison'}"
            ]
          },
          "metadata": {},
          "execution_count": 10
        }
      ],
      "source": [
        "authers_tag = soup.find_all('small', class_='author')\n",
        "authers = [auther.text for auther in authers_tag]\n",
        "uniq_authers = set(authers)\n",
        "uniq_authers"
      ]
    },
    {
      "cell_type": "markdown",
      "metadata": {
        "id": "Og54nkcXjoHa"
      },
      "source": [
        "**TASK: Create a list of all the quotes on the first page.**"
      ]
    },
    {
      "cell_type": "code",
      "execution_count": 13,
      "metadata": {
        "id": "hCtpUseejoHa",
        "outputId": "662ecc62-3471-464b-8044-0622b5140bb1",
        "colab": {
          "base_uri": "https://localhost:8080/"
        }
      },
      "outputs": [
        {
          "output_type": "stream",
          "name": "stdout",
          "text": [
            "quotes on the first page\n",
            "“The world as we have created it is a process of our thinking. It cannot be changed without changing our thinking.”\n",
            "“It is our choices, Harry, that show what we truly are, far more than our abilities.”\n",
            "“There are only two ways to live your life. One is as though nothing is a miracle. The other is as though everything is a miracle.”\n",
            "“The person, be it gentleman or lady, who has not pleasure in a good novel, must be intolerably stupid.”\n",
            "“Imperfection is beauty, madness is genius and it's better to be absolutely ridiculous than absolutely boring.”\n",
            "“Try not to become a man of success. Rather become a man of value.”\n",
            "“It is better to be hated for what you are than to be loved for what you are not.”\n",
            "“I have not failed. I've just found 10,000 ways that won't work.”\n",
            "“A woman is like a tea bag; you never know how strong it is until it's in hot water.”\n",
            "“A day without sunshine is like, you know, night.”\n"
          ]
        }
      ],
      "source": [
        "quotes_tag =soup.find_all('span', class_='text')\n",
        "quotes = [quote.text for quote in quotes_tag]\n",
        "print(\"quotes on the first page\")\n",
        "for quote in quotes:\n",
        "    print(quote)"
      ]
    },
    {
      "cell_type": "markdown",
      "metadata": {
        "id": "2QRcYnR2joHb"
      },
      "source": [
        "**TASK: Inspect the site and use Beautiful Soup to extract the top ten tags from the requests text shown on the top right from the home page (e.g Love,Inspirational,Life, etc...). HINT: Keep in mind there are also tags underneath each quote, try to find a class only present in the top right tags, perhaps check the span.**"
      ]
    },
    {
      "cell_type": "code",
      "execution_count": 14,
      "metadata": {
        "id": "0IisOxVHjoHb",
        "outputId": "a269db29-db60-44d8-f454-2f3c50f1283c",
        "colab": {
          "base_uri": "https://localhost:8080/"
        }
      },
      "outputs": [
        {
          "output_type": "stream",
          "name": "stdout",
          "text": [
            "love\n",
            "inspirational\n",
            "life\n",
            "humor\n",
            "books\n",
            "reading\n",
            "friendship\n",
            "friends\n",
            "truth\n",
            "simile\n"
          ]
        }
      ],
      "source": [
        "tags_box = soup.find('div', class_='tags-box')\n",
        "tags = tags_box.find_all('a', class_='tag')\n",
        "for tag in tags:\n",
        "    print(tag.text)\n"
      ]
    },
    {
      "cell_type": "markdown",
      "metadata": {
        "id": "rXtH8xV8joHc"
      },
      "source": [
        "**TASK: Notice how there is more than one page, and subsequent pages look like this http://quotes.toscrape.com/page/2/. Use what you know about for loops and string concatenation to loop through all the pages and get all the unique authors on the website. Keep in mind there are many ways to achieve this, also note that you will need to somehow figure out how to check that your loop is on the last page with quotes. For debugging purposes, I will let you know that there are only 10 pages, so the last page is http://quotes.toscrape.com/page/10/, but try to create a loop that is robust enough that it wouldn't matter to know the amount of pages beforehand, perhaps use try/except for this, its up to you!**"
      ]
    },
    {
      "cell_type": "code",
      "execution_count": 15,
      "metadata": {
        "id": "Fmvhh7_PjoHc",
        "outputId": "12dbb857-2e3e-4f1a-d0d5-5bacde4cd6a6",
        "colab": {
          "base_uri": "https://localhost:8080/"
        }
      },
      "outputs": [
        {
          "output_type": "stream",
          "name": "stdout",
          "text": [
            "✅ Page 1 scraped successfully.\n",
            "✅ Page 2 scraped successfully.\n",
            "✅ Page 3 scraped successfully.\n",
            "✅ Page 4 scraped successfully.\n",
            "✅ Page 5 scraped successfully.\n",
            "✅ Page 6 scraped successfully.\n",
            "✅ Page 7 scraped successfully.\n",
            "✅ Page 8 scraped successfully.\n",
            "✅ Page 9 scraped successfully.\n",
            "✅ Page 10 scraped successfully.\n",
            "\n",
            "🎉 Unique Authors Found:\n",
            "- Albert Einstein\n",
            "- Alexandre Dumas fils\n",
            "- Alfred Tennyson\n",
            "- Allen Saunders\n",
            "- André Gide\n",
            "- Ayn Rand\n",
            "- Bob Marley\n",
            "- C.S. Lewis\n",
            "- Charles Bukowski\n",
            "- Charles M. Schulz\n",
            "- Douglas Adams\n",
            "- Dr. Seuss\n",
            "- E.E. Cummings\n",
            "- Eleanor Roosevelt\n",
            "- Elie Wiesel\n",
            "- Ernest Hemingway\n",
            "- Friedrich Nietzsche\n",
            "- Garrison Keillor\n",
            "- George Bernard Shaw\n",
            "- George Carlin\n",
            "- George Eliot\n",
            "- George R.R. Martin\n",
            "- Harper Lee\n",
            "- Haruki Murakami\n",
            "- Helen Keller\n",
            "- J.D. Salinger\n",
            "- J.K. Rowling\n",
            "- J.M. Barrie\n",
            "- J.R.R. Tolkien\n",
            "- James Baldwin\n",
            "- Jane Austen\n",
            "- Jim Henson\n",
            "- Jimi Hendrix\n",
            "- John Lennon\n",
            "- Jorge Luis Borges\n",
            "- Khaled Hosseini\n",
            "- Madeleine L'Engle\n",
            "- Marilyn Monroe\n",
            "- Mark Twain\n",
            "- Martin Luther King Jr.\n",
            "- Mother Teresa\n",
            "- Pablo Neruda\n",
            "- Ralph Waldo Emerson\n",
            "- Stephenie Meyer\n",
            "- Steve Martin\n",
            "- Suzanne Collins\n",
            "- Terry Pratchett\n",
            "- Thomas A. Edison\n",
            "- W.C. Fields\n",
            "- William Nicholson\n"
          ]
        }
      ],
      "source": [
        "import requests\n",
        "from bs4 import BeautifulSoup\n",
        "\n",
        "# Initialize variables\n",
        "base_url = \"http://quotes.toscrape.com/page/\"\n",
        "page = 1\n",
        "unique_authors = set()\n",
        "\n",
        "while True:\n",
        "    try:\n",
        "        # Construct the URL for the current page\n",
        "        url = base_url + str(page) + \"/\"\n",
        "        response = requests.get(url)\n",
        "\n",
        "        # Stop if page doesn't exist (optional safety)\n",
        "        if response.status_code != 200:\n",
        "            break\n",
        "\n",
        "        # Parse HTML\n",
        "        soup = BeautifulSoup(response.text, 'html.parser')\n",
        "\n",
        "        # Find all author elements on the page\n",
        "        author_tags = soup.find_all('small', class_='author')\n",
        "        if not author_tags:\n",
        "            # No authors found — we've reached the last page\n",
        "            break\n",
        "\n",
        "        # Extract text and add to set\n",
        "        for author in author_tags:\n",
        "            unique_authors.add(author.get_text())\n",
        "\n",
        "        print(f\"✅ Page {page} scraped successfully.\")\n",
        "        page += 1\n",
        "\n",
        "    except Exception as e:\n",
        "        print(f\"❌ Error on page {page}: {e}\")\n",
        "        break\n",
        "\n",
        "# Print final results\n",
        "print(\"\\n🎉 Unique Authors Found:\")\n",
        "for author in sorted(unique_authors):\n",
        "    print(\"-\", author)\n"
      ]
    },
    {
      "cell_type": "markdown",
      "metadata": {
        "id": "cWWLlkXPjoHc"
      },
      "source": []
    }
  ],
  "metadata": {
    "kernelspec": {
      "display_name": "Python 3",
      "language": "python",
      "name": "python3"
    },
    "language_info": {
      "codemirror_mode": {
        "name": "ipython",
        "version": 3
      },
      "file_extension": ".py",
      "mimetype": "text/x-python",
      "name": "python",
      "nbconvert_exporter": "python",
      "pygments_lexer": "ipython3",
      "version": "3.8.5"
    },
    "colab": {
      "provenance": [],
      "include_colab_link": true
    }
  },
  "nbformat": 4,
  "nbformat_minor": 0
}